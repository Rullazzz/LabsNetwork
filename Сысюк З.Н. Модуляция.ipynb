{
 "cells": [
  {
   "cell_type": "code",
   "execution_count": 15,
   "id": "b664e1d4",
   "metadata": {},
   "outputs": [],
   "source": [
    "import random\n",
    "import math\n",
    "\n",
    "def randomDataGenerator(size):\n",
    "    data = [random.randint(0, 1) for i in range(size)]\n",
    "    return data\n",
    "\n",
    "def QPSK(data_array):\n",
    "    if (len(data_array) % 2 != 0):\n",
    "        print(\"Error, check data_array length(QPSK)\", len(data_array))\n",
    "        return 0\n",
    "    else:\n",
    "        di = [] # массив комплексных чисел\n",
    "        for i in range(0, len(data_array), 2):\n",
    "            b2i = data_array[i]\n",
    "            b2i1 = data_array[i+1]\n",
    "            real = (1 - 2 * b2i) / math.sqrt(2)\n",
    "            imag = (1 - 2 * b2i1) / math.sqrt(2)\n",
    "            di.append(complex(real, imag))\n",
    "        return di\n",
    "\n",
    "def QAM16(data_array):\n",
    "    if (len(data_array) % 4 != 0):\n",
    "        print(\"Error, check data_array length(QAM16)\")\n",
    "        return 0\n",
    "    else:\n",
    "        di = []\n",
    "        for i in range(0, len(data_array), 4):\n",
    "            b4i = data_array[i]\n",
    "            b4i1 = data_array[i+1]\n",
    "            b4i2 = data_array[i+2]\n",
    "            b4i3 = data_array[i+3]\n",
    "            real = (1 - 2 * b4i) * (2 - (1 - 2 * b4i2)) / math.sqrt(10)\n",
    "            imag = (1 - 2 * b4i1) * (2 - (1 - 2 * b4i3)) / math.sqrt(10)\n",
    "            di.append(complex(real, imag))\n",
    "        return di\n",
    "    \n",
    "def QAM64(data_array):\n",
    "    if (len(data_array) % 6 != 0):\n",
    "        print(\"nError, check data_array length(QAM64)\")\n",
    "        return 0\n",
    "    else:\n",
    "        di = []\n",
    "        for i in range(0, len(data_array), 6):\n",
    "            b6i = data_array[i]\n",
    "            b6i1 = data_array[i+1]\n",
    "            b6i2 = data_array[i+2]\n",
    "            b6i3 = data_array[i+3]\n",
    "            b6i4 = data_array[i+4]\n",
    "            b6i5 = data_array[i+5]\n",
    "            real = (1 - 2 * b6i) * (4 - (1 - 2 * b6i2) * (2 - (1 - 2 * b6i4))) / math.sqrt(42)\n",
    "            imag = (1 - 2 * b6i1) * (4 - (1 - 2 * b6i3) * (2 - (1 - 2 * b6i5))) / math.sqrt(42)\n",
    "            di.append(complex(real, imag))\n",
    "        return di\n",
    "    \n",
    "def QAM256(data_array):\n",
    "    if (len(data_array) % 8 != 0):\n",
    "        print(\"Error, check data_array length(QAM256)\")\n",
    "        return 0\n",
    "    else:\n",
    "        di = []\n",
    "        for i in range(0, len(data_array), 8):\n",
    "            b8i = data_array[i]\n",
    "            b8i1 = data_array[i+1]\n",
    "            b8i2 = data_array[i+2]\n",
    "            b8i3 = data_array[i+3]\n",
    "            b8i4 = data_array[i+4]\n",
    "            b8i5 = data_array[i+5]\n",
    "            b8i6 = data_array[i+6]\n",
    "            b8i7 = data_array[i+7]\n",
    "            real = (1 - 2 * b8i) * (8 - (1 - 2 * b8i2) * (4 - (1 - 2 * b8i4) * (2 - (1 - 2 * b8i6)))) / math.sqrt(170)\n",
    "            imag = (1 - 2 * b8i1) * (8 - (1 - 2 * b8i3) * (4 - (1 - 2 * b8i5) * (2 - (1 - 2 * b8i7)))) / math.sqrt(170)\n",
    "            di.append(complex(real, imag))\n",
    "        return di\n",
    "    \n",
    "def Decode(s, bits, func):\n",
    "    result = []\n",
    "    for i in s:\n",
    "        didx = []\n",
    "        dmin = 2\n",
    "        for b in range(0, 2 ** bits):\n",
    "            array = []\n",
    "            for j in range(0, bits):\n",
    "                array.append(b & 1)\n",
    "                b = b >> 1\n",
    "            res = func(array)[0]\n",
    "            dx = res.real - i.real\n",
    "            dy = res.imag - i.imag\n",
    "            d = dx * dx + dy * dy\n",
    "            if d < dmin:\n",
    "                didx = array\n",
    "                dmin = d\n",
    "        result = result + didx\n",
    "    return result"
   ]
  },
  {
   "cell_type": "code",
   "execution_count": 16,
   "id": "cb43434a",
   "metadata": {},
   "outputs": [
    {
     "name": "stdout",
     "output_type": "stream",
     "text": [
      "Модуляция QAM16\n",
      "Сгенерированный массив: [0, 0, 0, 0, 1, 1, 1, 1, 1, 1, 0, 0]\n",
      "Массив после модуляции: [(0.31622776601683794+0.31622776601683794j), (-0.9486832980505138-0.9486832980505138j), (-0.31622776601683794-0.31622776601683794j)]\n",
      "Декодированный массив: [0, 0, 0, 0, 1, 1, 1, 1, 1, 1, 0, 0]\n"
     ]
    }
   ],
   "source": [
    "print(\"Модуляция QAM16\")\n",
    "array = randomDataGenerator(12)\n",
    "print(\"Сгенерированный массив:\", array)\n",
    "modulated = QAM16(array)\n",
    "print(\"Массив после модуляции:\",modulated)\n",
    "decode = Decode (QAM16(array), 4, QAM16)\n",
    "print(\"Декодированный массив:\", decode)\n",
    "l = len(array)\n",
    "k = 0\n",
    "for i in range(l):\n",
    "    if (array[i]==decode[i]):\n",
    "        k = k+1"
   ]
  },
  {
   "cell_type": "code",
   "execution_count": 17,
   "id": "beac64b2",
   "metadata": {},
   "outputs": [
    {
     "name": "stdout",
     "output_type": "stream",
     "text": [
      "Модуляция QAM64\n",
      "Сгенерированный массив: [0, 1, 1, 1, 1, 0, 1, 0, 1, 1, 1, 0]\n",
      "Массив после модуляции: [(1.0801234497346432-0.7715167498104595j), (-1.0801234497346432+0.7715167498104595j)]\n",
      "Декодированный массив: [0, 1, 1, 1, 1, 0, 1, 0, 1, 1, 1, 0]\n"
     ]
    }
   ],
   "source": [
    "print(\"Модуляция QAM64\")\n",
    "array = randomDataGenerator(12)\n",
    "print(\"Сгенерированный массив:\", array)\n",
    "modulated = QAM64(array)\n",
    "print(\"Массив после модуляции:\",modulated)\n",
    "decode = Decode (QAM64(array), 6, QAM64)\n",
    "print(\"Декодированный массив:\", decode)\n",
    "l = len(array)\n",
    "k = 0\n",
    "for i in range(l):\n",
    "    if (array[i]==decode[i]):\n",
    "        k = k+1"
   ]
  },
  {
   "cell_type": "code",
   "execution_count": 18,
   "id": "eefb5b04",
   "metadata": {},
   "outputs": [
    {
     "name": "stdout",
     "output_type": "stream",
     "text": [
      "Модуляция QAM256\n",
      "Сгенерированный массив: [1, 0, 1, 1, 0, 1, 1, 0, 1, 1, 1, 0, 0, 1, 1, 1]\n",
      "Массив после модуляции: [(-0.6902684899626333+0.9970544855015815j), (-0.6902684899626333-0.07669649888473704j)]\n",
      "Декодированный массив: [1, 0, 1, 1, 0, 1, 1, 0, 1, 1, 1, 0, 0, 1, 1, 1]\n"
     ]
    }
   ],
   "source": [
    "print(\"Модуляция QAM256\")\n",
    "array = randomDataGenerator(16)\n",
    "print(\"Сгенерированный массив:\", array)\n",
    "modulated = QAM256(array)\n",
    "print(\"Массив после модуляции:\",modulated)\n",
    "decode = Decode (QAM256(array), 8, QAM256)\n",
    "print(\"Декодированный массив:\", decode)\n",
    "l = len(array)\n",
    "k = 0\n",
    "for i in range(l):\n",
    "    if (array[i]==decode[i]):\n",
    "        k = k+1"
   ]
  },
  {
   "cell_type": "code",
   "execution_count": 19,
   "id": "54f1389d",
   "metadata": {},
   "outputs": [
    {
     "name": "stdout",
     "output_type": "stream",
     "text": [
      "Модуляция QPSK\n",
      "Сгенерированный массив: [0, 0, 1, 1, 0, 1, 0, 0, 1, 0]\n",
      "Массив после модуляции: [(0.7071067811865475+0.7071067811865475j), (-0.7071067811865475-0.7071067811865475j), (0.7071067811865475-0.7071067811865475j), (0.7071067811865475+0.7071067811865475j), (-0.7071067811865475+0.7071067811865475j)]\n",
      "Декодированный массив: [0, 0, 1, 1, 0, 1, 0, 0, 1, 0]\n"
     ]
    }
   ],
   "source": [
    "print(\"Модуляция QPSK\")\n",
    "array = randomDataGenerator(10)\n",
    "print(\"Сгенерированный массив:\", array)\n",
    "modulated = QPSK(array)\n",
    "print(\"Массив после модуляции:\",modulated)\n",
    "decode = Decode (QPSK(array), 2, QPSK)\n",
    "print(\"Декодированный массив:\", decode)\n",
    "l = len(array)\n",
    "k = 0\n",
    "for i in range(l):\n",
    "    if (array[i]==decode[i]):\n",
    "        k = k+1"
   ]
  },
  {
   "cell_type": "code",
   "execution_count": null,
   "id": "73d6228b",
   "metadata": {},
   "outputs": [],
   "source": []
  }
 ],
 "metadata": {
  "kernelspec": {
   "display_name": "Python 3 (ipykernel)",
   "language": "python",
   "name": "python3"
  },
  "language_info": {
   "codemirror_mode": {
    "name": "ipython",
    "version": 3
   },
   "file_extension": ".py",
   "mimetype": "text/x-python",
   "name": "python",
   "nbconvert_exporter": "python",
   "pygments_lexer": "ipython3",
   "version": "3.9.12"
  }
 },
 "nbformat": 4,
 "nbformat_minor": 5
}
